{
 "cells": [
  {
   "cell_type": "code",
   "execution_count": 1,
   "metadata": {},
   "outputs": [],
   "source": [
    "from vivarium_csu_ltbi import paths\n",
    "from vivarium_csu_ltbi import globals as ltbi_globals\n",
    "from vivarium_csu_ltbi.verification_and_validation import loader"
   ]
  },
  {
   "cell_type": "code",
   "execution_count": 2,
   "metadata": {},
   "outputs": [
    {
     "data": {
      "text/plain": [
       "PosixPath('/share/costeffectiveness/results/vivarium_csu_ltbi/subminimal-with-risk/peru/2019_12_02_11_21_56')"
      ]
     },
     "execution_count": 2,
     "metadata": {},
     "output_type": "execute_result"
    }
   ],
   "source": [
    "p = paths.get_output_directory('peru', None)\n",
    "p"
   ]
  },
  {
   "cell_type": "code",
   "execution_count": 3,
   "metadata": {},
   "outputs": [
    {
     "name": "stderr",
     "output_type": "stream",
     "text": [
      "/home/collijk/code/models/vivarium_csu_ltbi/src/vivarium_csu_ltbi/verification_and_validation/loader.py:78: YAMLLoadWarning: calling yaml.load() without Loader=... is deprecated, as the default Loader is unsafe. Please read https://msg.pyyaml.org/load for full details.\n",
      "  keyspace = yaml.load(f.read())\n"
     ]
    }
   ],
   "source": [
    "df = loader.get_results('peru')"
   ]
  },
  {
   "cell_type": "code",
   "execution_count": 17,
   "metadata": {},
   "outputs": [
    {
     "data": {
      "text/plain": [
       "ylds_due_to_activetb_susceptible_hiv_among_male_in_age_group_early_neonatal_unexposed_to_hhtb        0.000000\n",
       "ylds_due_to_activetb_susceptible_hiv_among_female_in_age_group_early_neonatal_unexposed_to_hhtb      0.000000\n",
       "ylds_due_to_activetb_susceptible_hiv_among_male_in_age_group_late_neonatal_unexposed_to_hhtb         0.000000\n",
       "ylds_due_to_activetb_susceptible_hiv_among_female_in_age_group_late_neonatal_unexposed_to_hhtb       0.000000\n",
       "ylds_due_to_activetb_susceptible_hiv_among_male_in_age_group_post_neonatal_unexposed_to_hhtb         0.000000\n",
       "ylds_due_to_activetb_susceptible_hiv_among_female_in_age_group_85_to_89_unexposed_to_hhtb            1.275789\n",
       "ylds_due_to_activetb_susceptible_hiv_among_male_in_age_group_90_to_94_unexposed_to_hhtb              0.056712\n",
       "ylds_due_to_activetb_susceptible_hiv_among_female_in_age_group_90_to_94_unexposed_to_hhtb            0.229524\n",
       "ylds_due_to_activetb_susceptible_hiv_among_male_in_age_group_95_plus_unexposed_to_hhtb               0.155957\n",
       "ylds_due_to_activetb_susceptible_hiv_among_female_in_age_group_95_plus_unexposed_to_hhtb             0.000000\n",
       "ylds_due_to_activetb_positive_hiv_among_male_in_age_group_early_neonatal_unexposed_to_hhtb           0.000000\n",
       "ylds_due_to_activetb_positive_hiv_among_female_in_age_group_early_neonatal_unexposed_to_hhtb         0.000000\n",
       "ylds_due_to_activetb_positive_hiv_among_male_in_age_group_late_neonatal_unexposed_to_hhtb            0.000000\n",
       "ylds_due_to_activetb_positive_hiv_among_female_in_age_group_late_neonatal_unexposed_to_hhtb          0.000000\n",
       "ylds_due_to_activetb_positive_hiv_among_male_in_age_group_post_neonatal_unexposed_to_hhtb            0.000000\n",
       "ylds_due_to_activetb_positive_hiv_among_female_in_age_group_85_to_89_unexposed_to_hhtb               0.000000\n",
       "ylds_due_to_activetb_positive_hiv_among_male_in_age_group_90_to_94_unexposed_to_hhtb                 0.000000\n",
       "ylds_due_to_activetb_positive_hiv_among_female_in_age_group_90_to_94_unexposed_to_hhtb               0.000000\n",
       "ylds_due_to_activetb_positive_hiv_among_male_in_age_group_95_plus_unexposed_to_hhtb                  0.000000\n",
       "ylds_due_to_activetb_positive_hiv_among_female_in_age_group_95_plus_unexposed_to_hhtb                0.000000\n",
       "ylds_due_to_activetb_susceptible_hiv_among_male_in_age_group_early_neonatal_exposed_to_hhtb          0.000000\n",
       "ylds_due_to_activetb_susceptible_hiv_among_female_in_age_group_early_neonatal_exposed_to_hhtb        0.000000\n",
       "ylds_due_to_activetb_susceptible_hiv_among_male_in_age_group_late_neonatal_exposed_to_hhtb           0.009432\n",
       "ylds_due_to_activetb_susceptible_hiv_among_female_in_age_group_late_neonatal_exposed_to_hhtb         0.000000\n",
       "ylds_due_to_activetb_susceptible_hiv_among_male_in_age_group_post_neonatal_exposed_to_hhtb           8.116724\n",
       "ylds_due_to_activetb_susceptible_hiv_among_female_in_age_group_post_neonatal_exposed_to_hhtb         9.082723\n",
       "ylds_due_to_activetb_susceptible_hiv_among_male_in_age_group_1_to_4_exposed_to_hhtb                189.907997\n",
       "ylds_due_to_activetb_susceptible_hiv_among_female_in_age_group_1_to_4_exposed_to_hhtb              214.801207\n",
       "ylds_due_to_activetb_susceptible_hiv_among_male_in_age_group_5_to_9_exposed_to_hhtb                212.953158\n",
       "ylds_due_to_activetb_susceptible_hiv_among_female_in_age_group_5_to_9_exposed_to_hhtb              319.084053\n",
       "                                                                                                      ...    \n",
       "ylds_due_to_activetb_positive_hiv_among_female_in_age_group_10_to_14_unexposed_to_hhtb               0.000000\n",
       "ylds_due_to_activetb_positive_hiv_among_male_in_age_group_15_to_19_unexposed_to_hhtb                 0.000000\n",
       "ylds_due_to_activetb_positive_hiv_among_female_in_age_group_15_to_19_unexposed_to_hhtb               0.017450\n",
       "ylds_due_to_activetb_positive_hiv_among_male_in_age_group_20_to_24_unexposed_to_hhtb                 0.379325\n",
       "ylds_due_to_activetb_positive_hiv_among_female_in_age_group_20_to_24_unexposed_to_hhtb               0.000000\n",
       "ylds_due_to_activetb_positive_hiv_among_male_in_age_group_25_to_29_unexposed_to_hhtb                 0.518786\n",
       "ylds_due_to_activetb_positive_hiv_among_female_in_age_group_25_to_29_unexposed_to_hhtb               0.000000\n",
       "ylds_due_to_activetb_positive_hiv_among_male_in_age_group_30_to_34_unexposed_to_hhtb                 0.379704\n",
       "ylds_due_to_activetb_positive_hiv_among_female_in_age_group_30_to_34_unexposed_to_hhtb               0.090267\n",
       "ylds_due_to_activetb_positive_hiv_among_male_in_age_group_35_to_39_unexposed_to_hhtb                 0.742967\n",
       "ylds_due_to_activetb_positive_hiv_among_female_in_age_group_35_to_39_unexposed_to_hhtb               0.000000\n",
       "ylds_due_to_activetb_positive_hiv_among_male_in_age_group_40_to_44_unexposed_to_hhtb                 0.402254\n",
       "ylds_due_to_activetb_positive_hiv_among_female_in_age_group_40_to_44_unexposed_to_hhtb               0.104219\n",
       "ylds_due_to_activetb_positive_hiv_among_male_in_age_group_45_to_49_unexposed_to_hhtb                 0.108532\n",
       "ylds_due_to_activetb_positive_hiv_among_female_in_age_group_45_to_49_unexposed_to_hhtb               0.049316\n",
       "ylds_due_to_activetb_positive_hiv_among_male_in_age_group_50_to_54_unexposed_to_hhtb                 0.519127\n",
       "ylds_due_to_activetb_positive_hiv_among_female_in_age_group_50_to_54_unexposed_to_hhtb               0.000000\n",
       "ylds_due_to_activetb_positive_hiv_among_male_in_age_group_55_to_59_unexposed_to_hhtb                 0.728082\n",
       "ylds_due_to_activetb_positive_hiv_among_female_in_age_group_55_to_59_unexposed_to_hhtb               0.024632\n",
       "ylds_due_to_activetb_positive_hiv_among_male_in_age_group_60_to_64_unexposed_to_hhtb                 0.000000\n",
       "ylds_due_to_activetb_positive_hiv_among_female_in_age_group_60_to_64_unexposed_to_hhtb               0.000000\n",
       "ylds_due_to_activetb_positive_hiv_among_male_in_age_group_65_to_69_unexposed_to_hhtb                 0.000000\n",
       "ylds_due_to_activetb_positive_hiv_among_female_in_age_group_65_to_69_unexposed_to_hhtb               0.000000\n",
       "ylds_due_to_activetb_positive_hiv_among_male_in_age_group_70_to_74_unexposed_to_hhtb                 0.000000\n",
       "ylds_due_to_activetb_positive_hiv_among_female_in_age_group_70_to_74_unexposed_to_hhtb               0.000000\n",
       "ylds_due_to_activetb_positive_hiv_among_male_in_age_group_75_to_79_unexposed_to_hhtb                 0.000000\n",
       "ylds_due_to_activetb_positive_hiv_among_female_in_age_group_75_to_79_unexposed_to_hhtb               0.000000\n",
       "ylds_due_to_activetb_positive_hiv_among_male_in_age_group_80_to_84_unexposed_to_hhtb                 0.000000\n",
       "ylds_due_to_activetb_positive_hiv_among_female_in_age_group_80_to_84_unexposed_to_hhtb               0.000000\n",
       "ylds_due_to_activetb_positive_hiv_among_male_in_age_group_85_to_89_unexposed_to_hhtb                 0.000000\n",
       "Length: 184, dtype: float64"
      ]
     },
     "execution_count": 17,
     "metadata": {},
     "output_type": "execute_result"
    }
   ],
   "source": [
    "df[[c for c in df.columns if 'ylds' in c and 'activetb' in c]].sum()"
   ]
  },
  {
   "cell_type": "code",
   "execution_count": 5,
   "metadata": {
    "scrolled": false
   },
   "outputs": [
    {
     "data": {
      "text/plain": [
       "368"
      ]
     },
     "execution_count": 5,
     "metadata": {},
     "output_type": "execute_result"
    }
   ],
   "source": [
    "columns = list(df.columns)\n",
    "pop_columns = [c for c in columns if 'total_population' in c]\n",
    "deprecated_columns = [c for c in columns if 'prevalent_cases_at_sim_end' in c or 'event_count' in c]\n",
    "# Correct num cols 736 (7 states + other causes)\n",
    "death_columns = [c for c in columns if 'death_due_to' in c]\n",
    "# Correct num cols 736 (7 states + other causes)\n",
    "yll_columns = [c for c in columns if 'ylls_due_to' in c]\n",
    "# Correct num cols 644 (7 states)\n",
    "yld_columns = [c for c in columns if 'ylds_due_to' in c]\n",
    "# MISSING SEX, otherwise correct num cols (8 choose 2 state pairs) 2576\n",
    "count_columns = [c for c in columns if 'counts' in c]\n",
    "# MISSING SEX, otherwise correct num cols 8 states * 6 years 2208\n",
    "prevalent_columns = [c for c in columns if 'prevalent_cases' in c and 'sim_end' not in c]\n",
    "# correct num cols 92\n",
    "full_person_time_columns = [c for c in columns if 'person_time' in c and '_person' not in c]\n",
    "susceptible_person_time_columns = [c for c in columns if '_person_time' in c]\n",
    "# MISSING SEX, otherwise correct num cols 8 states 368\n",
    "len(susceptible_person_time_columns)"
   ]
  },
  {
   "cell_type": "code",
   "execution_count": 14,
   "metadata": {},
   "outputs": [
    {
     "data": {
      "text/plain": [
       "'ylds_due_to_ltbi_susceptible_hiv_among_male_in_age_group_early_neonatal_unexposed_to_hhtb'"
      ]
     },
     "execution_count": 14,
     "metadata": {},
     "output_type": "execute_result"
    }
   ],
   "source": [
    "yld_columns[0]"
   ]
  },
  {
   "cell_type": "code",
   "execution_count": 22,
   "metadata": {},
   "outputs": [
    {
     "data": {
      "text/plain": [
       "['random_seed', 'years_of_life_lost', 'years_lived_with_disability']"
      ]
     },
     "execution_count": 22,
     "metadata": {},
     "output_type": "execute_result"
    }
   ],
   "source": [
    "counted = (pop_columns + deprecated_columns + death_columns + yll_columns \n",
    "           + yld_columns + count_columns + prevalent_columns + full_person_time_columns \n",
    "           + susceptible_person_time_columns)\n",
    "remainder = [c for c in columns if c not in counted]\n",
    "remainder"
   ]
  },
  {
   "cell_type": "code",
   "execution_count": null,
   "metadata": {},
   "outputs": [],
   "source": [
    "TOTAL_POP_COLUMN = 'total_population'\n",
    "TOTAL_POP_IN_COLUMN_TEMPLATE = 'total_population_{pop_state}'\n",
    "DEATH_COLUMN_TEMPLATE = 'death_due_to_{cod_state}_among_sex_in_age_group_{age_group}_{exposure_group}'\n",
    "\n",
    "\n",
    "POP_STATE = {'tracked', 'untracked', 'alive', 'dead'}\n",
    "COD_STATE = {}\n",
    "\n",
    "\n",
    "'death_due_to_{state}_among_{sex}_in_age_group_{age_group}_{exposed}' 12-379\n",
    "'ylls_due_to_{state}_among_{sex}_in_age_group_{age_group}_{exposed}' 380 - 669\n",
    "'death_due_to_{state}_among_{sex}_in_age_group_{age_group}_{unexposed}' 670-1037\n",
    "'ylls_due_to_{state}_among_{sex}_in_age_group_{age_group}_{unexposed}' 1038 - 1403\n",
    "'total_population_{dead/alive}'1404-1405\n",
    "'ylds_due_to_{state}_among_{sex}_in_aage_group_{age_group}_{unexposed}' 1406-1475\n",
    "'{to_state}_counts_in_age_group_{age_group}_from_{from_state}_{exposed}' 1476 - 2463\n",
    "'{to_state}_counts_in_age_group_{age_group}_from_{from_state}_{unexposed}' 2464 - \n",
    "\n",
    "\n"
   ]
  },
  {
   "cell_type": "code",
   "execution_count": null,
   "metadata": {},
   "outputs": [],
   "source": [
    "380 - 12"
   ]
  },
  {
   "cell_type": "code",
   "execution_count": null,
   "metadata": {},
   "outputs": [],
   "source": [
    "states = 8\n",
    "ages = 23\n",
    "sex = 2\n",
    "exposure = 2\n",
    "states*ages*sex*exposure"
   ]
  },
  {
   "cell_type": "code",
   "execution_count": null,
   "metadata": {},
   "outputs": [],
   "source": [
    "736 - 644"
   ]
  },
  {
   "cell_type": "code",
   "execution_count": null,
   "metadata": {},
   "outputs": [],
   "source": [
    "92/23"
   ]
  },
  {
   "cell_type": "code",
   "execution_count": null,
   "metadata": {},
   "outputs": [],
   "source": [
    "7*8 * ages * exposure"
   ]
  },
  {
   "cell_type": "code",
   "execution_count": null,
   "metadata": {},
   "outputs": [],
   "source": [
    "8*ages*exposure*6"
   ]
  },
  {
   "cell_type": "code",
   "execution_count": null,
   "metadata": {},
   "outputs": [],
   "source": []
  }
 ],
 "metadata": {
  "kernelspec": {
   "display_name": "Python 3",
   "language": "python",
   "name": "python3"
  },
  "language_info": {
   "codemirror_mode": {
    "name": "ipython",
    "version": 3
   },
   "file_extension": ".py",
   "mimetype": "text/x-python",
   "name": "python",
   "nbconvert_exporter": "python",
   "pygments_lexer": "ipython3",
   "version": "3.6.9"
  }
 },
 "nbformat": 4,
 "nbformat_minor": 2
}
